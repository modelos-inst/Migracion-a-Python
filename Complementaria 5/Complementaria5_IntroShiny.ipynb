{
 "cells": [
  {
   "cell_type": "markdown",
   "metadata": {},
   "source": [
    "![image.png](image.png)"
   ]
  },
  {
   "cell_type": "markdown",
   "metadata": {},
   "source": [
    "IIND-2104. Modelos Probabilisticos"
   ]
  },
  {
   "cell_type": "markdown",
   "metadata": {},
   "source": [
    "<h1 style=\"color: #ADD8E6;\">Complementaria 5: Introducción a Shiny</h1>"
   ]
  },
  {
   "cell_type": "markdown",
   "metadata": {},
   "source": [
    "Este es un tutorial para construir una aplicación web con funcionalidades básicas usando el paquete dash del software Python. "
   ]
  },
  {
   "cell_type": "markdown",
   "metadata": {},
   "source": [
    "<h3 style=\"color: #ADD8E6;\">Ejemplo de una aplicación Dashboard</h3>"
   ]
  },
  {
   "cell_type": "markdown",
   "metadata": {},
   "source": [
    "En Bloque Neón descargue el archivo **app_ejemplo.py**, abralo en VSCode y ejecutelo. El programa abrirá el terminar, donde se ejecutará el siguiente comando:\n",
    "![image.png](ambiente_ejecucion.png)\n",
    "\n",
    "Una vez ejecutado el archivo, en su navegador de preferencia (Chrome, Firefox, Safari, Edge) visite el servidor local usando el puerto 8050, es decir, vaya a la página:\n",
    "\n",
    "http://127.0.0.1:8050/\n"
   ]
  },
  {
   "cell_type": "markdown",
   "metadata": {},
   "source": [
    "Dentro del archivo **app_ejemplo.py** se pueden identificar múltiples elementos. El primero es un enlace de estilos CSS que permitirá construir la herramienta Dashboard y se guarda en la variable *external_stylesheets*. También se puede identificar al objeto app, del cual se extrae el atributo server. Adicionalmente, se cuenta con una función *app.layout* donde se agregan elementos como deslizadores (<code style=\"background-color: #cfcfcf; padding: 2px 4px; border-radius: 4px;color: black;\">dcc.Slider()</code>) y gráficas (<code style=\"background-color: #cfcfcf; padding: 2px 4px; border-radius: 4px;color: black;\">dcc.Graph()</code>) , es decir, donde se describe la interfaz gráfica de la aplicación. Finalmente, se cuenta con una función *update_figure* que junto al decorador <code style=\"background-color: #cfcfcf; padding: 2px 4px; border-radius: 4px;color: black;\">app.Callback()</code> , va a actualizar la información de la gráfica de forma automática cuando el usuario interactúe con el deslizador."
   ]
  },
  {
   "cell_type": "markdown",
   "metadata": {},
   "source": [
    "<h2 style=\"color: #ADD8E6;\">Aplicación Políticas de Inventario en una fábrica de papel</h2>"
   ]
  },
  {
   "cell_type": "markdown",
   "metadata": {},
   "source": [
    "En esta parte, se desea construir una herramienta que permita evaluar los costos de dos políticas de inventario consideradas por una fábrica de resmas de papel."
   ]
  },
  {
   "cell_type": "markdown",
   "metadata": {},
   "source": [
    "<h3 style=\"color: #ADD8E6;\">Creación de interfaz gráfica</h3>"
   ]
  },
  {
   "cell_type": "markdown",
   "metadata": {},
   "source": [
    "Ahora, se desea construir una interfaz donde se muestre un panel interactivo en el que el usuario pueda variar los parámetros del análisis (en este caso la tasa de la demanda de resmas de papel), y una gráfica con este análisis (el costo total en el que incurre la empresa por políticas de inventario). Para esto, se hará uso de un deslizador (dcc.Slider), descrito con anterioridad, que se mostrará en la parte lateral izquierda de la página y una gráfica que será el contenido principal en la página.\n",
    "\n",
    "El resultado final debería ser:"
   ]
  },
  {
   "cell_type": "markdown",
   "metadata": {},
   "source": [
    "![image.png](Herramienta.png)"
   ]
  },
  {
   "cell_type": "markdown",
   "metadata": {},
   "source": [
    "Para crear una nueva aplicación Dashboard:\n",
    "\n",
    "* Hacer click en la pestaña File\n",
    "* Seleccionar la opción New File\n",
    "* Seleccionar Python File\n",
    "\n",
    "Se recomienda guardar el archivo en una nueva carpeta a la que usted tenga fácil acceso.\n",
    "\n",
    "En el nuevo archivo en blanco, primero se hace la importación de las librerías necesarias. Recuerde que debe tener instaladas las librerías en su computador, en caso de no contar con ellas acceda a su terminal e instale las librerías necesarias con el comando **pip install**"
   ]
  },
  {
   "cell_type": "code",
   "execution_count": 1,
   "metadata": {},
   "outputs": [],
   "source": [
    "#Librerías para ejecutar el dash\n",
    "import dash\n",
    "from dash import dcc  # dash core components\n",
    "from dash import html # dash html components\n",
    "from dash.dependencies import Input, Output\n",
    "\n",
    "#Librería para graficar\n",
    "import plotly.graph_objs as go"
   ]
  },
  {
   "cell_type": "markdown",
   "metadata": {},
   "source": [
    "Posteriormente, se guarda el enlace a la hoja de estilos CSS, y se crea los objetos app:"
   ]
  },
  {
   "cell_type": "code",
   "execution_count": 2,
   "metadata": {},
   "outputs": [],
   "source": [
    "#Enlace a la hoja de estilos CSS y permite construir la herramiente Dash\n",
    "external_stylesheets = ['https://codepen.io/chriddyp/pen/bWLwgP.css']\n",
    "\n",
    "#Se crea el objeto app, dentro del cual se extrae el atributo server\n",
    "app = dash.Dash(__name__, external_stylesheets=external_stylesheets)\n",
    "server = app.server"
   ]
  },
  {
   "cell_type": "markdown",
   "metadata": {},
   "source": [
    "Procedemos a realizar el diseño de la interfaz. Se ubica un deslizador que permita seleccionar el valor deseado del parámetro de la demanda. La función del *app.layout* se muestra a continuación:"
   ]
  },
  {
   "cell_type": "code",
   "execution_count": 3,
   "metadata": {},
   "outputs": [],
   "source": [
    "# Definir la interfaz de la aplicación\n",
    "app.layout = html.Div([\n",
    "    # titulo de la aplicación\n",
    "    html.H1('Aplicación Políticas de Inventario', style={'textAlign': 'center'}),\n",
    "\n",
    "    #Se realiza la división de recuadros entre el título y los demás objetos\n",
    "    html.Div([\n",
    "    #imprimir gráfica de costos\n",
    "    dcc.Graph(id='Graf_Cost_Tot'),\n",
    "\n",
    "    #Crear objeto para ingresar parametro de tasa de demanda con un control deslizante\n",
    "    dcc.Slider(\n",
    "            id = 'TasaDemanda',\n",
    "            min = 0,\n",
    "            max = 30,\n",
    "            value = 15,\n",
    "            step = 1\n",
    "        ),\n",
    "    \n",
    "    #Crear objeto para especificar la tasa seleccionada por el usuario y las unidades\n",
    "    html.Div(id='valorSlider')\n",
    "    ])\n",
    "])"
   ]
  },
  {
   "cell_type": "markdown",
   "metadata": {},
   "source": [
    "<u>**Debajo**</u> de la función *app.layout*, se debe incorporar el siguiente comando de ejecución de la aplicación el cual permitirá iniciar un servidor y por lo tanto, lanzar nuestra herramienta Dash"
   ]
  },
  {
   "cell_type": "markdown",
   "metadata": {},
   "source": [
    "```python\n",
    "if __name__ == '__main__':\n",
    "    app.run_server(debug=True)\n"
   ]
  },
  {
   "cell_type": "markdown",
   "metadata": {},
   "source": [
    "La aplicación en este momento debería verse así:\n",
    "![image.png](Herramienta_Inicio.png)"
   ]
  },
  {
   "cell_type": "markdown",
   "metadata": {},
   "source": [
    "<h3 style=\"color: #ADD8E6;\">Creación de la lógica de aplicación</h3>"
   ]
  },
  {
   "cell_type": "markdown",
   "metadata": {},
   "source": [
    "Hasta el momento, se tiene el esqueleto de una interfaz. Sin embargo, para que esta realice cualquier acción, se requiere la incorporación de funciones que con ayuda del decorador @app.callback actualicen la aplicación. Dentro del decorador se van a ingresar todos los Outputs o salidas que se desean actualizar a partir de los Inputs o entradas que se ven modificadas. Para esto se va a crear la nueva función update_graph donde se definirá la lógica que estará por debajo de la generación de las gráficas de la evolución de costos de cada política durante 10 semanas. Lo anterior se puede realizar de dos maneras:\n",
    "1. Implementando directamente en el server todo el código necesario.\n",
    "2. Implementando funciones en un documento de Python (.py) a parte que serán llamadas dentro de la función *update_fig* de acuerdo a los requerimientos necesarios, ejecutando el código de dicho script, en lo posible, solo una vez.\n",
    "\n",
    "Con base en las dos anteriores formas de implementación del código, en el presente tutorial se seguirá la segunda metodología.\n",
    "\n",
    "<span style=\"color: red; font-weight: bold;\">Nota: </span> Se recomienda realizar sus aplicativos de Dashboard siguiendo la segunda metodología, puesto que, si se sigue la primera propuesta, en el caso de presentarse múltiples outputs, la corrida del código puede ser ineficiente. Lo anterior, debido a que para cada uno de estos outputs, debe ejecutarse el mismo código.\n",
    "\n",
    "Volviendo al ejemplo de la fábrica de resmas de papel, se deben implementar en nuevo documento .py dos modelos de cadena de Markov de tiempo discreto, uno para cada política de inventario. A partir de estos modelos se estimarán los costos requeridos usando análisis transitorio. Es importante denotar que <u>dicho documento debe ser guardado dentro de la carpeta resultante</u> al crear el aplicativo de Dashboard."
   ]
  },
  {
   "cell_type": "markdown",
   "metadata": {},
   "source": [
    "Para calcular las probabilidades de transición de la anteriores cadenas de Markov, se debe tener en cuenta que la demanda semanal se distribuye Poisson. Para calcular las probabilidades de Poisson, se utiliza la librería **scipy.stats**, específicamente la clase **poisson**. Esta clase tiene como parámetros el valor de *k* y de $\\lambda$.\n",
    "* Si se quiere obtener la probabilidad puntual, se utiliza la función <code style=\"background-color: #cfcfcf; padding: 2px 4px; border-radius: 4px;color: black;\">poisson.pmf()</code>, que es equivalente a realizar el cálculo:\n",
    "\n",
    "$$P(X=k) = \\frac{e^{-\\lambda} \\cdot (\\lambda)^{k}}{k!}$$\n",
    "\n",
    "* Si queremos calcular el valor de la probabilidad acumulada, utilizamos la función <code style=\"background-color: #cfcfcf; padding: 2px 4px; border-radius: 4px;color: black;\">poisson.cdf()</code>, la cuál calcula:\n",
    "\n",
    "$$P(X\\leq k) = \\sum_{i=0}^{k} \\frac{e^{-\\lambda} \\cdot (\\lambda)^{k}}{k!}$$\n",
    "\n",
    "* Si queremos calcular la probabilidad acumulada de **cola derecha** utilizamos la función <code style=\"background-color: #cfcfcf; padding: 2px 4px; border-radius: 4px;color: black;\">poisson.sf()</code>, la cual calcula $$P(X> k)$$\n",
    "\n",
    "Estas dos funciones descritas anteriormente se utilizarán más adelante para llenar las matrices de probabilidades de transición de los dos modelos."
   ]
  },
  {
   "cell_type": "markdown",
   "metadata": {},
   "source": [
    "A continuación, se escribe en un nuevo script de R, que llamaremos “Funciones.py”.\n",
    "\n",
    "Antes de escribir cualquier cosa, se deben cargar (y de ser necesario, instalar) las librerías **pandas**, **numpy**, **jmarkov** (específicamente la clase dtmc para cadenas discretas) y **scipy.stats** (específicamente la clase poisson)."
   ]
  },
  {
   "cell_type": "code",
   "execution_count": 4,
   "metadata": {},
   "outputs": [
    {
     "name": "stderr",
     "output_type": "stream",
     "text": [
      "C:\\Users\\lrios\\AppData\\Local\\Temp\\ipykernel_14948\\2939183429.py:3: DeprecationWarning:\n",
      "\n",
      "\n",
      "Pyarrow will become a required dependency of pandas in the next major release of pandas (pandas 3.0),\n",
      "(to allow more performant data types, such as the Arrow string type, and better interoperability with other libraries)\n",
      "but was not found to be installed on your system.\n",
      "If this would cause problems for you,\n",
      "please provide us feedback at https://github.com/pandas-dev/pandas/issues/54466\n",
      "        \n",
      "\n"
     ]
    }
   ],
   "source": [
    "#Librerías que vamos a utilizar\n",
    "## Recuerde hacer pip install en el cmd si no ha instalado alguna de ellas\n",
    "import pandas as pd\n",
    "import numpy as np\n",
    "\n",
    "from scipy.stats import poisson\n",
    "from jmarkov.dtmc import dtmc"
   ]
  },
  {
   "cell_type": "markdown",
   "metadata": {},
   "source": [
    "Ahora, se escribe una función donde se implementa el código necesario para los dos modelos ya mencionados, calcular los costos semanales y, a partir de esto, generar una gráfica que represente la evolución de tales costos en las próximas 10 semanas. Dicha función recibe como parámetro un objeto “tasa” que representará la tasa de la demanda semanal, la cual variaremos desde el **app.layout**."
   ]
  },
  {
   "cell_type": "code",
   "execution_count": 5,
   "metadata": {},
   "outputs": [],
   "source": [
    "#Crear la función que realice los procedimientos necesarios.\n",
    "#En este caso se busca crear los objetos cadenas de markov para ambas políticas, realizar el análisis transitorio para las 10 semanas y obtener los respectivos costos\n",
    "def Shiny_function(tasa):\n",
    "    \n",
    "    #Crear los estados\n",
    "    estados = range(23)\n",
    "\n",
    "    #*****Crear y llenar la matriz P de la política actual*****\n",
    "    matrizP = np.zeros((len(estados), len(estados)), dtype = float)\n",
    "\n",
    "    #Para la Política Actual -> si i<=10 solicita 12 resmas\n",
    "    for i in estados:\n",
    "        for j in estados:\n",
    "            if i<=10 and j>0:\n",
    "                matrizP[i,j] = poisson.pmf(12+i-j, tasa) #poisson.pmf calcula P(D=k)\n",
    "            elif i<=10 and j==0:\n",
    "                matrizP[i,j] = poisson.sf(12+i-1, tasa) #poisson.smf calcula P(D>k). Por esto es necesario restar 1 unidad.\n",
    "            elif i>10 and j>0:\n",
    "                matrizP[i,j] = poisson.pmf(i-j, tasa)\n",
    "            elif i>10 and j==0:\n",
    "                matrizP[i,j] = poisson.sf(i-1, tasa)\n",
    "\n",
    "    \n",
    "    #*****Crear y llenar la matriz P para el caso de la Política Nueva*****\n",
    "    matrizPNueva = np.zeros((len(estados), len(estados)), dtype = float)\n",
    "    \n",
    "    #Para la nueva Política  -> solicitar hasta la capacidad máxima\n",
    "    for i in estados:\n",
    "        for j in estados:\n",
    "            if j>0:\n",
    "               matrizPNueva[i,j] = poisson.pmf(22-j, tasa)\n",
    "            elif j==0:\n",
    "                matrizPNueva[i,j]=poisson.sf(21, tasa)\n",
    "\n",
    "    #*****Crear las dos cadenas usando el paquete jmarkov*****\n",
    "    #Política Actual\n",
    "    politica_Actual = dtmc(matrizP)\n",
    "    #Política Nueva\n",
    "    politica_Nueva = dtmc(matrizPNueva)\n",
    "\n",
    "    #Valor de los costos de inventario y de ordenar\n",
    "    cInventario = 6200\n",
    "    cOrdenar = 38000\n",
    "\n",
    "    #******Estimar los costos para las próximas 10 semanas\n",
    "    #Definir vector de estado inicial dado que al final de esta semana quedaron cero unidades en inventario\n",
    "    alfa = np.zeros(len(estados))\n",
    "    alfa[0] = 1\n",
    "\n",
    "    #calcula el vector de costos de la política actual \n",
    "    cost_Sem_Pactual = []\n",
    "    #Calcula el costo de inventario y el costo de ordenar promedio de la política actual\n",
    "    cost_inv_Pactual = []\n",
    "    cost_ord_Pactual = []\n",
    "\n",
    "    for i in range(1,11):\n",
    "        probs = politica_Actual.transient_probabilities(n = i, alpha=alfa)\n",
    "\n",
    "        print(cInventario * np.dot(probs, estados))\n",
    "        cost_inv_Pactual.append(cInventario * np.dot(probs, estados))\n",
    "        cost_ord_Pactual.append(cOrdenar*sum(probs[0:10]))\n",
    "\n",
    "    cost_Sem_Pactual = np.add(cost_inv_Pactual, cost_ord_Pactual)\n",
    "\n",
    "    #calcula el vector de costos de la política nueva\n",
    "    cost_Sem_Pnueva = []\n",
    "    #Calcula el costo de inventario y el costo de ordenar promedio de la política nueva\n",
    "    cost_inv_Pnueva = []\n",
    "    cost_ord_Pnueva = [] \n",
    "    for i in range(1,11):\n",
    "        probs = politica_Nueva.transient_probabilities(n = i, alpha=alfa)\n",
    "        \n",
    "        cost_inv_Pnueva.append(cInventario * np.dot(probs, estados))\n",
    "        cost_ord_Pnueva.append(cOrdenar*sum(probs[0:21]))\n",
    "    \n",
    "    cost_Sem_Pnueva = np.add(cost_inv_Pnueva, cost_ord_Pnueva)\n",
    "\n",
    "    #vector de numero de semana\n",
    "    num_sem = range(1,11)\n",
    "    data = pd.DataFrame({\n",
    "        'numero_semana': num_sem,\n",
    "        'costo_semanal_PolActual': cost_Sem_Pactual,\n",
    "        'costo_semanal_PolNueva': cost_Sem_Pnueva\n",
    "    })\n",
    "\n",
    "    return data"
   ]
  },
  {
   "cell_type": "markdown",
   "metadata": {},
   "source": [
    "Por ende, si se observan las últimas líneas de la anterior función, es posible determinar que el valor que ésta retorna es un data frame, el cual se recupera en el server, como se muestra a continuación.\n",
    "\n",
    "\n",
    "Primero, se debe vincular el aplicativo de Dashboard al script de Python que se desea utilizar como fuente. Para esto, se hace uso <code style=\"background-color: #cfcfcf; padding: 2px 4px; border-radius: 4px;color: black;\">from</code>, el cual se define antes del enlace a la hoja de estilos CSS."
   ]
  },
  {
   "cell_type": "code",
   "execution_count": 7,
   "metadata": {},
   "outputs": [],
   "source": [
    "#Librerías para ejecutar el dash\n",
    "import dash\n",
    "from dash import dcc  # dash core components\n",
    "from dash import html # dash html components\n",
    "from dash.dependencies import Input, Output\n",
    "\n",
    "#Librería para graficar\n",
    "import plotly.graph_objs as go\n",
    "\n",
    "#Este comando importa todas las funciones del archivo Funciones.py (debe encontrarse en la misma carpeta que el Dashboard)\n",
    "## El archivo Funciones.py incluye la función donde anteriormente obteniamos los costos para las 10 semanas.\n",
    "from Funciones import *\n",
    "\n",
    "#Enlace a la hoja de estilos CSS y permite construir la herramiente Dash\n",
    "external_stylesheets = ['https://codepen.io/chriddyp/pen/bWLwgP.css']\n",
    "\n",
    "#Se crea el objeto app, dentro del cual se extrae el atributo server\n",
    "app = dash.Dash(__name__, external_stylesheets=external_stylesheets)\n",
    "server = app.server"
   ]
  },
  {
   "cell_type": "markdown",
   "metadata": {},
   "source": [
    "Ahora, agregaremos la función @app.callback <u>**ENTRE**</u> la función *app.layout* y el comando de ejecución de la aplicación que lanza la herramienta Dash.\n",
    "\n",
    "<span style=\"color: red; font-weight: bold;\">Recordatorio: </span> el comando de ejecución de la aplicación es el siguiente:\n",
    "```python\n",
    "if __name__ == '__main__':\n",
    "    app.run_server(debug=True)\n",
    "\n"
   ]
  },
  {
   "cell_type": "markdown",
   "metadata": {},
   "source": [
    "Luego, debe llamarse la funcion Shiny_function() que se encuentra en el archivo “Funciones.py”. La gráfica resultante se renderiza usando la clase *go* de la librería *plotly.graph_objs*."
   ]
  },
  {
   "cell_type": "code",
   "execution_count": 8,
   "metadata": {},
   "outputs": [],
   "source": [
    "@app.callback(\n",
    "    #Outputs que se van a modificar cuando el usuario interactua\n",
    "    [Output('Graf_Cost_Tot', 'figure'),\n",
    "     Output('valorSlider', 'children')],\n",
    "     #Input en el que se va a fijar el callback\n",
    "    [Input('TasaDemanda', 'value')])\n",
    "def update_graph(Tasa):\n",
    "    #Importamos la información de la funcion en Funciones.py\n",
    "    InfoCostos = Shiny_function(Tasa)\n",
    "\n",
    "    #__________Generar gráfica de los costos para las próximas 10 semanas__________\n",
    "   #cada variable trace guardada es una nueva curva a la gráfica\n",
    "    trace1 = go.Scatter(\n",
    "    x=InfoCostos['numero_semana'],\n",
    "    y=InfoCostos['costo_semanal_PolActual'],\n",
    "    mode='lines+markers',\n",
    "    name='P Actual'\n",
    "    )\n",
    "\n",
    "    trace2 = go.Scatter(\n",
    "    x=InfoCostos['numero_semana'],\n",
    "    y=InfoCostos['costo_semanal_PolNueva'],\n",
    "    mode='lines+markers',\n",
    "    name='P nueva'\n",
    "    )\n",
    "\n",
    "    layout = go.Layout(\n",
    "    title='Costo por política en las próximas semanas',\n",
    "    xaxis=dict(title='Semana'),\n",
    "    yaxis=dict(title='Costo')\n",
    "    )\n",
    "\n",
    "    fig = go.Figure(data=[trace1, trace2], layout=layout)\n",
    "\n",
    "    return fig, f'Tasa seleccionada: {Tasa} cajas/semana'\n"
   ]
  },
  {
   "cell_type": "markdown",
   "metadata": {},
   "source": [
    "Cabe resaltar que el objeto de salida Graf_Cost_Tot fue registrado en la función *app.layout*, para indicar qué tipo de objeto era (un gráfico de plotly en este caso) y en qué lugar de la interfaz debería aparecer este objeto. Mientras que en la función *update_fig* se define cómo renderizar este objeto gráfico. Puesto que se quiere que este gráfico cambie dinámicamente dependiendo del valor de la tasa de demanda que el usuario ingrese en la aplicación, al renderizar este objeto se debe incluir el parámetro TasaDemanda, el cual será ingresado como parámetro en la función Shiny_function(), la cual retorna un data frame que se guardará en una variable llamada “InfoCostos”. Se debe tener en cuenta que TasaDemanda es el inputId del objeto de entrada de la tasa de demanda y fue definido en la funcion *app.layout*. Para ejecutar el aplicativo Dashboard se hacer click en el botón “Run Python File” (triángulo en la esquina superior derecha), lo cual abrirá el terminal, luego, en su navegador (Chrome, Firefox, Safari, Edge) visite el servidor local usando el puerto 8050, es decir, vaya a la página:\n",
    "\n",
    "http://127.0.0.1:8050/"
   ]
  },
  {
   "cell_type": "markdown",
   "metadata": {},
   "source": [
    "<details>\n",
    "<summary style=\"background-color: #ADD8E6; padding: 10px; border-radius: 5px; color:black;cursor: pointer;\">Click aquí para ver el código completo del archivo Funciones.py</summary>\n",
    "\n",
    "```python\n",
    "#Script donde se llevaran a cabo todas las funciones\n",
    "\n",
    "#Librerías que vamos a utilizar\n",
    "## Recuerde hacer pip install en el cmd si no ha instalado alguna de ellas\n",
    "import pandas as pd\n",
    "import numpy as np\n",
    "\n",
    "from scipy.stats import poisson\n",
    "from jmarkov.dtmc import dtmc\n",
    "\n",
    "#Crear la función que realice los procedimientos necesarios.\n",
    "#En este caso se busca crear los objetos cadenas de markov para ambas políticas, realizar el análisis transitorio para las 10 semanas y obtener los respectivos costos\n",
    "def Shiny_function(tasa):\n",
    "    \n",
    "    #Crear los estados\n",
    "    estados = range(23)\n",
    "\n",
    "    #*****Crear y llenar la matriz P de la política actual*****\n",
    "    matrizP = np.zeros((len(estados), len(estados)), dtype = float)\n",
    "\n",
    "    #Para la Política Actual -> si i<=10 solicita 12 resmas\n",
    "    for i in estados:\n",
    "        for j in estados:\n",
    "            if i<=10 and j>0:\n",
    "                matrizP[i,j] = poisson.pmf(12+i-j, tasa) #poisson.pmf calcula P(D=k)\n",
    "            elif i<=10 and j==0:\n",
    "                matrizP[i,j] = poisson.sf(12+i-1, tasa) #poisson.smf calcula P(D>k). Por esto es necesario restar 1 unidad.\n",
    "            elif i>10 and j>0:\n",
    "                matrizP[i,j] = poisson.pmf(i-j, tasa)\n",
    "            elif i>10 and j==0:\n",
    "                matrizP[i,j] = poisson.sf(i-1, tasa)\n",
    "\n",
    "    \n",
    "    #*****Crear y llenar la matriz P para el caso de la Política Nueva*****\n",
    "    matrizPNueva = np.zeros((len(estados), len(estados)), dtype = float)\n",
    "    \n",
    "    #Para la nueva Política  -> solicitar hasta la capacidad máxima\n",
    "    for i in estados:\n",
    "        for j in estados:\n",
    "            if j>0:\n",
    "               matrizPNueva[i,j] = poisson.pmf(22-j, tasa)\n",
    "            elif j==0:\n",
    "                matrizPNueva[i,j]=poisson.sf(21, tasa)\n",
    "\n",
    "    #*****Crear las dos cadenas usando el paquete jmarkov*****\n",
    "    #Política Actual\n",
    "    politica_Actual = dtmc(matrizP)\n",
    "    #Política Nueva\n",
    "    politica_Nueva = dtmc(matrizPNueva)\n",
    "\n",
    "    #Valor de los costos de inventario y de ordenar\n",
    "    cInventario = 6200\n",
    "    cOrdenar = 38000\n",
    "\n",
    "    #******Estimar los costos para las próximas 10 semanas\n",
    "    #Definir vector de estado inicial dado que al final de esta semana quedaron cero unidades en inventario\n",
    "    alfa = np.zeros(len(estados))\n",
    "    alfa[0] = 1\n",
    "\n",
    "    #calcula el vector de costos de la política actual \n",
    "    cost_Sem_Pactual = []\n",
    "    #Calcula el costo de inventario y el costo de ordenar promedio de la política actual\n",
    "    cost_inv_Pactual = []\n",
    "    cost_ord_Pactual = []\n",
    "\n",
    "    for i in range(1,11):\n",
    "        probs = politica_Actual.transient_probabilities(n = i, alpha=alfa)\n",
    "\n",
    "        print(cInventario * np.dot(probs, estados))\n",
    "        cost_inv_Pactual.append(cInventario * np.dot(probs, estados))\n",
    "        cost_ord_Pactual.append(cOrdenar*sum(probs[0:10]))\n",
    "\n",
    "    print(cost_inv_Pactual)\n",
    "    print(cost_ord_Pactual)\n",
    "    cost_Sem_Pactual = np.add(cost_inv_Pactual, cost_ord_Pactual)\n",
    "\n",
    "    #calcula el vector de costos de la política nueva\n",
    "    cost_Sem_Pnueva = []\n",
    "    #Calcula el costo de inventario y el costo de ordenar promedio de la política nueva\n",
    "    cost_inv_Pnueva = []\n",
    "    cost_ord_Pnueva = [] \n",
    "    for i in range(1,11):\n",
    "        probs = politica_Nueva.transient_probabilities(n = i, alpha=alfa)\n",
    "        \n",
    "        cost_inv_Pnueva.append(cInventario * np.dot(probs, estados))\n",
    "        cost_ord_Pnueva.append(cOrdenar*sum(probs[0:21]))\n",
    "    \n",
    "    cost_Sem_Pnueva = np.add(cost_inv_Pnueva, cost_ord_Pnueva)\n",
    "\n",
    "    #vector de numero de semana\n",
    "    num_sem = range(1,11)\n",
    "    data = pd.DataFrame({\n",
    "        'numero_semana': num_sem,\n",
    "        'costo_semanal_PolActual': cost_Sem_Pactual,\n",
    "        'costo_semanal_PolNueva': cost_Sem_Pnueva\n",
    "    })\n",
    "\n",
    "    return data\n"
   ]
  },
  {
   "cell_type": "markdown",
   "metadata": {},
   "source": [
    "<details>\n",
    "<summary style=\"background-color: #ADD8E6; padding: 10px; border-radius: 5px; color:black;cursor: pointer;\">Click aquí para ver el código completo del Dashboard</summary>\n",
    "\n",
    "```python\n",
    "#Librerías para ejecutar el dash\n",
    "import dash\n",
    "from dash import dcc  # dash core components\n",
    "from dash import html # dash html components\n",
    "from dash.dependencies import Input, Output\n",
    "\n",
    "#Librería para graficar\n",
    "import plotly.graph_objs as go\n",
    "\n",
    "#Este comando importa todas las funciones del archivo Funciones.py\n",
    "## El archivo Funciones.py se debe encontrar en la misma carpeta que este documento.\n",
    "from Funciones import *\n",
    "\n",
    "#Enlace a la hoja de estilos CSS y permite construir la herramiente Dash\n",
    "external_stylesheets = ['https://codepen.io/chriddyp/pen/bWLwgP.css']\n",
    "\n",
    "#Se crea el objeto app, dentro del cual se extrae el atributo server\n",
    "app = dash.Dash(__name__, external_stylesheets=external_stylesheets)\n",
    "server = app.server\n",
    "\n",
    "# Definir la interfaz de la aplicación\n",
    "app.layout = html.Div([\n",
    "    # titulo de la aplicación\n",
    "    html.H1('Aplicación Políticas de Inventario', style={'textAlign': 'center'}),\n",
    "\n",
    "    #Se realiza la división de recuadros entre el título y los demás objetos\n",
    "    html.Div([\n",
    "    #imprimir gráfica de costos\n",
    "    dcc.Graph(id='Graf_Cost_Tot'),\n",
    "\n",
    "    #Crear objeto para ingresar parametro de tasa de demanda con un control deslizante\n",
    "    dcc.Slider(\n",
    "            id = 'TasaDemanda',\n",
    "            min = 0,\n",
    "            max = 30,\n",
    "            value = 15,\n",
    "            step = 1\n",
    "        ),\n",
    "    \n",
    "    #Crear objeto para especificar la tasa seleccionada por el usuario y las unidades\n",
    "    html.Div(id='valorSlider')\n",
    "    ])\n",
    "])\n",
    "\n",
    "@app.callback(\n",
    "    #Outputs que se van a modificar cuando el usuario interactua\n",
    "    [Output('Graf_Cost_Tot', 'figure'),\n",
    "     Output('valorSlider', 'children')],\n",
    "     #Input en el que se va a fijar el callback\n",
    "    [Input('TasaDemanda', 'value')])\n",
    "def update_graph(Tasa):\n",
    "    #Importamos la información de la funcion en Funciones.py\n",
    "    InfoCostos = Shiny_function(Tasa)\n",
    "\n",
    "    #__________Generar gráfica de los costos para las próximas 10 semanas__________\n",
    "   #cada variable trace guardada es una nueva curva a la gráfica\n",
    "    trace1 = go.Scatter(\n",
    "    x=InfoCostos['numero_semana'],\n",
    "    y=InfoCostos['costo_semanal_PolActual'],\n",
    "    mode='lines+markers',\n",
    "    name='P Actual'\n",
    "    )\n",
    "\n",
    "    trace2 = go.Scatter(\n",
    "    x=InfoCostos['numero_semana'],\n",
    "    y=InfoCostos['costo_semanal_PolNueva'],\n",
    "    mode='lines+markers',\n",
    "    name='P nueva'\n",
    "    )\n",
    "\n",
    "    layout = go.Layout(\n",
    "    title='Costo por política en las próximas semanas',\n",
    "    xaxis=dict(title='Semana'),\n",
    "    yaxis=dict(title='Costo')\n",
    "    )\n",
    "\n",
    "    fig = go.Figure(data=[trace1, trace2], layout=layout)\n",
    "\n",
    "    return fig, f'Tasa seleccionada: {Tasa} cajas/semana'\n",
    "\n",
    "\n",
    "\n",
    "if __name__ == '__main__':\n",
    "    app.run_server(debug=True)"
   ]
  }
 ],
 "metadata": {
  "kernelspec": {
   "display_name": "Python 3",
   "language": "python",
   "name": "python3"
  },
  "language_info": {
   "codemirror_mode": {
    "name": "ipython",
    "version": 3
   },
   "file_extension": ".py",
   "mimetype": "text/x-python",
   "name": "python",
   "nbconvert_exporter": "python",
   "pygments_lexer": "ipython3",
   "version": "3.11.7"
  }
 },
 "nbformat": 4,
 "nbformat_minor": 2
}
